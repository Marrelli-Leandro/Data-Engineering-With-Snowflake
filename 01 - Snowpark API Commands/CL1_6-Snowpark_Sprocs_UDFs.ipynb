{
 "cells": [
  {
   "cell_type": "markdown",
   "metadata": {},
   "source": [
    "<div style=\"text-align: center; line-height: 0; padding-top: 9px;\">\n",
    "  <img src=\"https://drive.google.com/uc?export=view&id=1LqkEgbpZj8A99Y9T59eBp9fEIZbpg6P2\" alt=\"Snowflake Snowpark Classroom\" style=\"width: 800px\">\n",
    "</div>"
   ]
  },
  {
   "cell_type": "markdown",
   "metadata": {},
   "source": [
    "# Classroom 1.6 - Understanding Stored Procedures and User Defined Functions with Snowflake Snowpark for Python\n",
    "\n",
    "In this notebook, you will learn the basics on how to create snowflake's stored procedures and user defined functions using Snowpark API for Python\n",
    "\n",
    "## Learning Objectives\n",
    "\n",
    "By the end of this classroom, you should be able to:\n",
    "- Understanding Snowflake Stored Procedure Creation using Snowpark for Python\n",
    "- Understanding Snowflake User Defined Functions Creation using Snowpark for Python"
   ]
  },
  {
   "cell_type": "code",
   "execution_count": 1,
   "metadata": {},
   "outputs": [
    {
     "name": "stderr",
     "output_type": "stream",
     "text": [
      "c:\\Users\\divya\\anaconda3\\envs\\py38_env\\lib\\site-packages\\snowflake\\connector\\options.py:96: UserWarning: You have an incompatible version of 'pyarrow' installed (10.0.1), please install a version that adheres to: 'pyarrow<8.1.0,>=8.0.0; extra == \"pandas\"'\n",
      "  warn_incompatible_dep(\n"
     ]
    }
   ],
   "source": [
    "# Let's get started with Snowflake Snowpark for Python\n",
    "from assets.config import connection_builder\n",
    "session = connection_builder()"
   ]
  },
  {
   "cell_type": "markdown",
   "metadata": {},
   "source": [
    "## Section 1 - Snowflake Stored Procedures\n",
    "\n",
    "snowflake.snowpark.stored_procedure.StoredProcedure encapsulates a user defined lambda or function that is returned by [sproc()](https://docs.snowflake.com/en/developer-guide/snowpark/reference/python/latest/api/snowflake.snowpark.functions.sproc.html#snowflake.snowpark.functions.sproc), [StoredProcedureRegistration.register()](https://docs.snowflake.com/en/developer-guide/snowpark/reference/python/latest/api/snowflake.snowpark.stored_procedure.StoredProcedureRegistration.register.html#snowflake.snowpark.stored_procedure.StoredProcedureRegistration.register) or [StoredProcedureRegistration.register_from_file()](https://docs.snowflake.com/en/developer-guide/snowpark/reference/python/latest/api/snowflake.snowpark.stored_procedure.StoredProcedureRegistration.register_from_file.html#snowflake.snowpark.stored_procedure.StoredProcedureRegistration.register_from_file). The constructor of this class is not supposed to be called directly.\n",
    "\n",
    "\n",
    "### StoredProcedureRegistration \n",
    "\n",
    "snowflake.snowpark.stored_procedure.StoredProcedureRegistration provides methods to register lambdas and functions as stored procedures in the Snowflake database. \n",
    "\n",
    "- ***session.sproc*** returns an object of this class. You can use this object to register stored procedures that you plan to use in the current session or permanently. The methods that register a stored procedure return a StoredProcedure object.\n",
    "- **The first parameter of your function should be a snowpark Session**. Also, you need to add snowflake-snowpark-python package (version >= 0.4.0) to your session before trying to create a stored procedure.\n",
    "\n",
    "#### Ways to Register Stored Procedure\n",
    "\n",
    "- Use sproc() or [register()](https://docs.snowflake.com/en/developer-guide/snowpark/reference/python/latest/api/snowflake.snowpark.stored_procedure.StoredProcedureRegistration.register#snowflake.snowpark.stored_procedure.StoredProcedureRegistration.register).\n",
    "- Use register_from_file().\n",
    "\n",
    "Additional Reference Codes for registering stored procedures using Snowflake snowpark API - [here](https://docs.snowflake.com/developer-guide/snowpark/reference/python/latest/api/snowflake.snowpark.stored_procedure.StoredProcedureRegistration)\n",
    "\n",
    "\n",
    "---------------------------------------\n",
    "\n",
    "### Snowflake Snowpark supported data types for the parameters\n",
    "\n",
    "Snowflake supports the following [data types](https://docs.snowflake.com/developer-guide/snowpark/reference/python/latest/api/snowflake.snowpark.stored_procedure.StoredProcedureRegistration) for the parameters for a stored procedure:\n",
    "\n",
    "\n",
    "| Python Type | Snowpark Type | SQL Type | \n",
    "|--|--|--|\n",
    "| int |  LongType | NUMBER | \n",
    "| decimal.Decimal | DecimalType | NUMBER |\n",
    "| float | FloatType | FLOAT |\n",
    "| str | StringType | STRING |\n",
    "| bool | BooleanType | BOOL |\n",
    "| datetime.time | TimeType | TIME |\n",
    "| datetime.date | DateType | DATE |\n",
    "| datetime.datetime | TimestampType | TIMESTAMP |\n",
    "| bytes or bytearray | BinaryType | BINARY |\n",
    "| list | ArrayType | ARRAY |\n",
    "| dict | MapType | OBJECT |\n",
    "| Dynamically mapped to the native Python type | VariantType | VARIANT |\n",
    "| dict | GeographyType | GEOGRAPHY |\n"
   ]
  },
  {
   "cell_type": "code",
   "execution_count": 2,
   "metadata": {},
   "outputs": [
    {
     "name": "stdout",
     "output_type": "stream",
     "text": [
      "----------------- Query History Table Refresh SP Creation Using @Sproc() Decorator -----------------\n",
      "------------------------------------------------------------------------------------------------------------------------------------------------------------------------------------------------------------------------------------------------------------------------------------------------------------------------------------------------------------------------------------------------------------------------------------------------------------------------------------------------------------------------------------------------------------------------------------------------------------------------------------------------------------------------------------------------------------------------------------------------------------------------------------------------------------------------------------------------------------------------------------------------------------------------------------------------------------------------------------------------------------------------------------------------------------------------------------------------------------------------------------------------------------------------------------------------------------------------------------------------------------------------------------------------------------------------------------------------------------------------------------------------------------------------------------------------------------------------------------------------------------------------------------------------------------------------------------------------------------------------------------------------------------------------------------------------------------------------------------------------------------------------------------------------------------------------------------------------------------------------------------------------------------------------------------------\n",
      "|\"QUERY_ID\"                            |\"QUERY_TEXT\"                                        |\"DATABASE_ID\"  |\"DATABASE_NAME\"  |\"SCHEMA_ID\"  |\"SCHEMA_NAME\"  |\"QUERY_TYPE\"  |\"SESSION_ID\"      |\"USER_NAME\"          |\"ROLE_NAME\"        |\"WAREHOUSE_ID\"  |\"WAREHOUSE_NAME\"  |\"WAREHOUSE_SIZE\"  |\"WAREHOUSE_TYPE\"  |\"CLUSTER_NUMBER\"  |\"QUERY_TAG\"  |\"EXECUTION_STATUS\"  |\"ERROR_CODE\"  |\"ERROR_MESSAGE\"  |\"START_TIME\"                      |\"END_TIME\"                        |\"TOTAL_ELAPSED_TIME\"  |\"BYTES_SCANNED\"  |\"PERCENTAGE_SCANNED_FROM_CACHE\"  |\"BYTES_WRITTEN\"  |\"BYTES_WRITTEN_TO_RESULT\"  |\"BYTES_READ_FROM_RESULT\"  |\"ROWS_PRODUCED\"  |\"ROWS_INSERTED\"  |\"ROWS_UPDATED\"  |\"ROWS_DELETED\"  |\"ROWS_UNLOADED\"  |\"BYTES_DELETED\"  |\"PARTITIONS_SCANNED\"  |\"PARTITIONS_TOTAL\"  |\"BYTES_SPILLED_TO_LOCAL_STORAGE\"  |\"BYTES_SPILLED_TO_REMOTE_STORAGE\"  |\"BYTES_SENT_OVER_THE_NETWORK\"  |\"COMPILATION_TIME\"  |\"EXECUTION_TIME\"  |\"QUEUED_PROVISIONING_TIME\"  |\"QUEUED_REPAIR_TIME\"  |\"QUEUED_OVERLOAD_TIME\"  |\"TRANSACTION_BLOCKED_TIME\"  |\"OUTBOUND_DATA_TRANSFER_CLOUD\"  |\"OUTBOUND_DATA_TRANSFER_REGION\"  |\"OUTBOUND_DATA_TRANSFER_BYTES\"  |\"INBOUND_DATA_TRANSFER_CLOUD\"  |\"INBOUND_DATA_TRANSFER_REGION\"  |\"INBOUND_DATA_TRANSFER_BYTES\"  |\"LIST_EXTERNAL_FILES_TIME\"  |\"CREDITS_USED_CLOUD_SERVICES\"  |\"RELEASE_VERSION\"  |\"EXTERNAL_FUNCTION_TOTAL_INVOCATIONS\"  |\"EXTERNAL_FUNCTION_TOTAL_SENT_ROWS\"  |\"EXTERNAL_FUNCTION_TOTAL_RECEIVED_ROWS\"  |\"EXTERNAL_FUNCTION_TOTAL_SENT_BYTES\"  |\"EXTERNAL_FUNCTION_TOTAL_RECEIVED_BYTES\"  |\"QUERY_LOAD_PERCENT\"  |\"IS_CLIENT_GENERATED_STATEMENT\"  |\"QUERY_ACCELERATION_BYTES_SCANNED\"  |\"QUERY_ACCELERATION_PARTITIONS_SCANNED\"  |\"QUERY_ACCELERATION_UPPER_LIMIT_SCALE_FACTOR\"  |\"TRANSACTION_ID\"  |\"CHILD_QUERIES_WAIT_TIME\"  |\"ROLE_TYPE\"  |\"QUERY_HASH\"                      |\"QUERY_HASH_VERSION\"  |\"QUERY_PARAMETERIZED_HASH\"        |\"QUERY_PARAMETERIZED_HASH_VERSION\"  |\n",
      "------------------------------------------------------------------------------------------------------------------------------------------------------------------------------------------------------------------------------------------------------------------------------------------------------------------------------------------------------------------------------------------------------------------------------------------------------------------------------------------------------------------------------------------------------------------------------------------------------------------------------------------------------------------------------------------------------------------------------------------------------------------------------------------------------------------------------------------------------------------------------------------------------------------------------------------------------------------------------------------------------------------------------------------------------------------------------------------------------------------------------------------------------------------------------------------------------------------------------------------------------------------------------------------------------------------------------------------------------------------------------------------------------------------------------------------------------------------------------------------------------------------------------------------------------------------------------------------------------------------------------------------------------------------------------------------------------------------------------------------------------------------------------------------------------------------------------------------------------------------------------------------------------------------------------------------\n",
      "|01afaa3b-3200-e68b-0004-ebfe00057126  |RM @worksheets_app.public.blobs/projects/824348...  |NULL           |NULL             |NULL         |NULL           |REMOVE_FILES  |1385376061423830  |WORKSHEETS_APP_USER  |WORKSHEETS_APP_RL  |NULL            |NULL              |NULL              |NULL              |NULL              |             |SUCCESS             |NULL          |NULL             |2023-10-15 06:15:44.297000-07:00  |2023-10-15 06:15:44.376000-07:00  |79                    |0                |0.0                              |0                |0                          |0                         |NULL             |0                |0               |0               |0                |0                |0                     |0                   |0                                 |0                                  |0                              |28                  |51                |0                           |0                     |0                       |0                           |NULL                            |NULL                             |0                               |NULL                           |NULL                            |0                              |0                           |0.0                            |7.36.1             |0                                      |0                                    |0                                        |0                                     |0                                         |NULL                  |True                             |0                                   |0                                        |0                                              |0                 |0                          |ROLE         |c22b9f709b310517b8e41128fb704074  |2                     |c22b9f709b310517b8e41128fb704074  |1                                   |\n",
      "|01afaa3b-3200-e68a-0004-ebfe000580ea  |RM @worksheets_app.public.blobs/projects/824348...  |NULL           |NULL             |NULL         |NULL           |REMOVE_FILES  |1385376061419738  |WORKSHEETS_APP_USER  |WORKSHEETS_APP_RL  |NULL            |NULL              |NULL              |NULL              |NULL              |             |SUCCESS             |NULL          |NULL             |2023-10-15 06:15:44.033000-07:00  |2023-10-15 06:15:44.123000-07:00  |90                    |0                |0.0                              |0                |0                          |0                         |NULL             |0                |0               |0               |0                |0                |0                     |0                   |0                                 |0                                  |0                              |32                  |58                |0                           |0                     |0                       |0                           |NULL                            |NULL                             |0                               |NULL                           |NULL                            |0                              |0                           |0.0                            |7.36.1             |0                                      |0                                    |0                                        |0                                     |0                                         |NULL                  |True                             |0                                   |0                                        |0                                              |0                 |0                          |ROLE         |3821434ef527a1dd7eaa3b489e4f30cf  |2                     |3821434ef527a1dd7eaa3b489e4f30cf  |1                                   |\n",
      "|01afaa3b-3200-e68a-0004-ebfe000580e6  |RM @worksheets_app.public.blobs/projects/824348...  |NULL           |NULL             |NULL         |NULL           |REMOVE_FILES  |1385376061419734  |WORKSHEETS_APP_USER  |WORKSHEETS_APP_RL  |NULL            |NULL              |NULL              |NULL              |NULL              |             |SUCCESS             |NULL          |NULL             |2023-10-15 06:15:42.765000-07:00  |2023-10-15 06:15:42.848000-07:00  |83                    |0                |0.0                              |0                |0                          |0                         |NULL             |0                |0               |0               |0                |0                |0                     |0                   |0                                 |0                                  |0                              |28                  |55                |0                           |0                     |0                       |0                           |NULL                            |NULL                             |0                               |NULL                           |NULL                            |0                              |0                           |0.0                            |7.36.1             |0                                      |0                                    |0                                        |0                                     |0                                         |NULL                  |True                             |0                                   |0                                        |0                                              |0                 |0                          |ROLE         |b9c632f5fd3594386164df1a0cba914c  |2                     |b9c632f5fd3594386164df1a0cba914c  |1                                   |\n",
      "|01afaa3b-3200-e68b-0004-ebfe00057122  |RM @worksheets_app.public.blobs/projects/824348...  |NULL           |NULL             |NULL         |NULL           |REMOVE_FILES  |1385376061423826  |WORKSHEETS_APP_USER  |WORKSHEETS_APP_RL  |NULL            |NULL              |NULL              |NULL              |NULL              |             |SUCCESS             |NULL          |NULL             |2023-10-15 06:15:42.453000-07:00  |2023-10-15 06:15:42.552000-07:00  |99                    |0                |0.0                              |0                |0                          |0                         |NULL             |0                |0               |0               |0                |0                |0                     |0                   |0                                 |0                                  |0                              |28                  |71                |0                           |0                     |0                       |0                           |NULL                            |NULL                             |0                               |NULL                           |NULL                            |0                              |0                           |0.0                            |7.36.1             |0                                      |0                                    |0                                        |0                                     |0                                         |NULL                  |True                             |0                                   |0                                        |0                                              |0                 |0                          |ROLE         |05f86dadd867294f726688f5fd086b50  |2                     |05f86dadd867294f726688f5fd086b50  |1                                   |\n",
      "|01afaa3b-3200-e68a-0004-ebfe000580e2  |RM @worksheets_app.public.blobs/projects/824348...  |NULL           |NULL             |NULL         |NULL           |REMOVE_FILES  |1385376061423822  |WORKSHEETS_APP_USER  |WORKSHEETS_APP_RL  |NULL            |NULL              |NULL              |NULL              |NULL              |             |SUCCESS             |NULL          |NULL             |2023-10-15 06:15:42.193000-07:00  |2023-10-15 06:15:42.276000-07:00  |83                    |0                |0.0                              |0                |0                          |0                         |NULL             |0                |0               |0               |0                |0                |0                     |0                   |0                                 |0                                  |0                              |27                  |56                |0                           |0                     |0                       |0                           |NULL                            |NULL                             |0                               |NULL                           |NULL                            |0                              |0                           |0.0                            |7.36.1             |0                                      |0                                    |0                                        |0                                     |0                                         |NULL                  |True                             |0                                   |0                                        |0                                              |0                 |0                          |ROLE         |fdff4431a5a0e2e7621afd5a9d3064ea  |2                     |fdff4431a5a0e2e7621afd5a9d3064ea  |1                                   |\n",
      "|01afaa3b-3200-e68b-0004-ebfe0005711e  |RM @worksheets_app.public.blobs/projects/824348...  |NULL           |NULL             |NULL         |NULL           |REMOVE_FILES  |1385376061419730  |WORKSHEETS_APP_USER  |WORKSHEETS_APP_RL  |NULL            |NULL              |NULL              |NULL              |NULL              |             |SUCCESS             |NULL          |NULL             |2023-10-15 06:15:41.937000-07:00  |2023-10-15 06:15:42.022000-07:00  |85                    |0                |0.0                              |0                |0                          |0                         |NULL             |0                |0               |0               |0                |0                |0                     |0                   |0                                 |0                                  |0                              |28                  |57                |0                           |0                     |0                       |0                           |NULL                            |NULL                             |0                               |NULL                           |NULL                            |0                              |0                           |0.0                            |7.36.1             |0                                      |0                                    |0                                        |0                                     |0                                         |NULL                  |True                             |0                                   |0                                        |0                                              |0                 |0                          |ROLE         |2df22e17fd242c76e1870018f9fbecc0  |2                     |2df22e17fd242c76e1870018f9fbecc0  |1                                   |\n",
      "|01afaa3b-3200-e68a-0004-ebfe000580de  |RM @worksheets_app.public.blobs/projects/824348...  |NULL           |NULL             |NULL         |NULL           |REMOVE_FILES  |1385376061419726  |WORKSHEETS_APP_USER  |WORKSHEETS_APP_RL  |NULL            |NULL              |NULL              |NULL              |NULL              |             |SUCCESS             |NULL          |NULL             |2023-10-15 06:15:41.688000-07:00  |2023-10-15 06:15:41.769000-07:00  |81                    |0                |0.0                              |0                |0                          |0                         |NULL             |0                |0               |0               |0                |0                |0                     |0                   |0                                 |0                                  |0                              |25                  |56                |0                           |0                     |0                       |0                           |NULL                            |NULL                             |0                               |NULL                           |NULL                            |0                              |0                           |0.0                            |7.36.1             |0                                      |0                                    |0                                        |0                                     |0                                         |NULL                  |True                             |0                                   |0                                        |0                                              |0                 |0                          |ROLE         |a8cae4ae29c19babbf27393aa1baadf8  |2                     |a8cae4ae29c19babbf27393aa1baadf8  |1                                   |\n",
      "|01afaa3b-3200-e68a-0004-ebfe000580da  |RM @worksheets_app.public.blobs/projects/824348...  |NULL           |NULL             |NULL         |NULL           |REMOVE_FILES  |1385376061423818  |WORKSHEETS_APP_USER  |WORKSHEETS_APP_RL  |NULL            |NULL              |NULL              |NULL              |NULL              |             |SUCCESS             |NULL          |NULL             |2023-10-15 06:15:41.438000-07:00  |2023-10-15 06:15:41.523000-07:00  |85                    |0                |0.0                              |0                |0                          |0                         |NULL             |0                |0               |0               |0                |0                |0                     |0                   |0                                 |0                                  |0                              |27                  |58                |0                           |0                     |0                       |0                           |NULL                            |NULL                             |0                               |NULL                           |NULL                            |0                              |0                           |0.0                            |7.36.1             |0                                      |0                                    |0                                        |0                                     |0                                         |NULL                  |True                             |0                                   |0                                        |0                                              |0                 |0                          |ROLE         |f7ff91b12b5dc1bd1767554a1f28d8de  |2                     |f7ff91b12b5dc1bd1767554a1f28d8de  |1                                   |\n",
      "|01afaa3b-3200-e68b-0004-ebfe0005711a  |RM @worksheets_app.public.blobs/projects/824348...  |NULL           |NULL             |NULL         |NULL           |REMOVE_FILES  |1385376061423814  |WORKSHEETS_APP_USER  |WORKSHEETS_APP_RL  |NULL            |NULL              |NULL              |NULL              |NULL              |             |SUCCESS             |NULL          |NULL             |2023-10-15 06:15:41.186000-07:00  |2023-10-15 06:15:41.267000-07:00  |81                    |0                |0.0                              |0                |0                          |0                         |NULL             |0                |0               |0               |0                |0                |0                     |0                   |0                                 |0                                  |0                              |29                  |52                |0                           |0                     |0                       |0                           |NULL                            |NULL                             |0                               |NULL                           |NULL                            |0                              |0                           |0.0                            |7.36.1             |0                                      |0                                    |0                                        |0                                     |0                                         |NULL                  |True                             |0                                   |0                                        |0                                              |0                 |0                          |ROLE         |70af2318f4f70a592f40e3dd33bcdd5b  |2                     |70af2318f4f70a592f40e3dd33bcdd5b  |1                                   |\n",
      "|01afaa3b-3200-e68b-0004-ebfe00057116  |RM @worksheets_app.public.blobs/projects/824348...  |NULL           |NULL             |NULL         |NULL           |REMOVE_FILES  |1385376061423810  |WORKSHEETS_APP_USER  |WORKSHEETS_APP_RL  |NULL            |NULL              |NULL              |NULL              |NULL              |             |SUCCESS             |NULL          |NULL             |2023-10-15 06:15:40.938000-07:00  |2023-10-15 06:15:41.023000-07:00  |85                    |0                |0.0                              |0                |0                          |0                         |NULL             |0                |0               |0               |0                |0                |0                     |0                   |0                                 |0                                  |0                              |31                  |54                |0                           |0                     |0                       |0                           |NULL                            |NULL                             |0                               |NULL                           |NULL                            |0                              |0                           |0.0                            |7.36.1             |0                                      |0                                    |0                                        |0                                     |0                                         |NULL                  |True                             |0                                   |0                                        |0                                              |0                 |0                          |ROLE         |5867b6c90118cbb1e7a790208f412f0a  |2                     |5867b6c90118cbb1e7a790208f412f0a  |1                                   |\n",
      "------------------------------------------------------------------------------------------------------------------------------------------------------------------------------------------------------------------------------------------------------------------------------------------------------------------------------------------------------------------------------------------------------------------------------------------------------------------------------------------------------------------------------------------------------------------------------------------------------------------------------------------------------------------------------------------------------------------------------------------------------------------------------------------------------------------------------------------------------------------------------------------------------------------------------------------------------------------------------------------------------------------------------------------------------------------------------------------------------------------------------------------------------------------------------------------------------------------------------------------------------------------------------------------------------------------------------------------------------------------------------------------------------------------------------------------------------------------------------------------------------------------------------------------------------------------------------------------------------------------------------------------------------------------------------------------------------------------------------------------------------------------------------------------------------------------------------------------------------------------------------------------------------------------------------------------\n",
      "\n",
      "----------------- Login History Table Refresh SP Creation Using session.sproc.register -----------------\n",
      "----------------- 5+10 Sum Using Stored procedure from External File Using session.sproc.register -----------------\n"
     ]
    },
    {
     "data": {
      "text/plain": [
       "15"
      ]
     },
     "execution_count": 2,
     "metadata": {},
     "output_type": "execute_result"
    }
   ],
   "source": [
    "import snowflake.snowpark\n",
    "from snowflake.snowpark.functions import sproc, col\n",
    "from snowflake.snowpark.types import StringType, BooleanType, IntegerType\n",
    "session.add_packages('snowflake-snowpark-python')\n",
    "session.sql('CREATE OR REPLACE STAGE TEST_STAGE').collect()\n",
    "\n",
    "print('----------------- Query History Table Refresh SP Creation Using @Sproc() Decorator -----------------')\n",
    "# @sproc decorator allows you to create temporary stored procedure which you can use within the session\n",
    "@sproc\n",
    "def refresh_query_history(session: snowflake.snowpark.Session)-> str:\n",
    "    tgt_table = session.sql('CREATE TABLE IF NOT EXISTS Q_HISTORY LIKE SNOWFLAKE.ACCOUNT_USAGE.QUERY_HISTORY').collect()\n",
    "    query_history_table = session.table('SNOWFLAKE.ACCOUNT_USAGE.QUERY_HISTORY')\n",
    "    query_history_table.write.mode('overwrite').save_as_table('Q_HISTORY')\n",
    "    return 'success'\n",
    "refresh_query_history()\n",
    "session.table('Q_HISTORY').sort(col('start_time').desc()).show()\n",
    "\n",
    "print('----------------- Login History Table Refresh SP Creation Using session.sproc.register -----------------')\n",
    "# Registering Stored Procedure using Session.sproc.register() method. It allows you to create permanent as well as temporary sprocs.\n",
    "# For permanent stored procedures, you would require a stage to be mentioned while calling the method\n",
    "\n",
    "def refresh_login_history(session : snowflake.snowpark.Session, status:bool)->str:\n",
    "    if(status):\n",
    "        login_history_table = session.table('SNOWFLAKE.ACCOUNT_USAGE.LOGIN_HISTORY')\n",
    "        login_history_table.write.mode('overwrite').save_as_table('L_HISTORY')\n",
    "        return 'refresh ran successfully'\n",
    "    return 'table not refreshed'\n",
    "session.sproc.register(name='refresh_login_hist_sp',\n",
    "                       func=refresh_login_history,\n",
    "                       return_type=StringType(),\n",
    "                       input_types=[BooleanType()],\n",
    "                       replace=True,\n",
    "                       is_permanent=True,\n",
    "                       stage_location='@TEST_STAGE',\n",
    "                       execute_as = 'CALLER'\n",
    ")\n",
    "session.call('refresh_login_hist_sp',True)\n",
    "\n",
    "print('----------------- 5+10 Sum Using Stored procedure from External File Using session.sproc.register -----------------')\n",
    "# Registering Stored Procedure using Session.sproc.register_from_file() method. It allows you to register a python function from an external file or from a stage file\n",
    "\n",
    "session.sproc.register_from_file(file_path='assets/misc.py',\n",
    "                                 func_name='sum_val',\n",
    "                                 return_type=IntegerType(),\n",
    "                                 name='sum_values',\n",
    "                                 is_permanent=True,\n",
    "                                 stage_location='@TEST_STAGE',\n",
    "                                 replace=True,\n",
    "                                 )\n",
    "session.call('sum_values')"
   ]
  },
  {
   "cell_type": "markdown",
   "metadata": {},
   "source": [
    "## Section 2 - Snowflake Snowpark User Defined Functions\n",
    "\n",
    "snowflake.snowpark.udf.UDFRegistration provides methods to register lambdas and functions as UDFs in the Snowflake database.\n",
    "\n",
    "[session.udf](https://docs.snowflake.com/developer-guide/snowpark/reference/python/api/snowflake.snowpark.Session.udf.html#snowflake.snowpark.Session.udf) returns an object of this class. You can use this object to register UDFs that you plan to use in the current session or permanently. The methods that register a UDF return a UserDefinedFunction object, which you can also use in Column expressions.\n",
    "\n",
    "Before creating a UDF, think about whether you want to create a vectorized UDF (also referred to as Python UDF Batch API) or a regular UDF. The advantages of a vectorized UDF are:\n",
    "- The potential for better performance if your Python code operates efficiently on batches of rows.\n",
    "- Less transformation logic is required if you are calling into libraries that operate on Pandas DataFrames or Pandas arrays.\n",
    "\n",
    "#### Ways to Register User Defined Stored Procedure\n",
    "\n",
    "- Use [udf()](https://docs.snowflake.com/developer-guide/snowpark/reference/python/latest/api/snowflake.snowpark.functions.udf#snowflake.snowpark.functions.udf) or [register()](https://docs.snowflake.com/developer-guide/snowpark/reference/python/latest/api/snowflake.snowpark.udf.UDFRegistration.register#snowflake.snowpark.udf.UDFRegistration.register).\n",
    "- Use [register_from_file()](https://docs.snowflake.com/developer-guide/snowpark/reference/python/latest/api/snowflake.snowpark.udf.UDFRegistration.register_from_file#snowflake.snowpark.udf.UDFRegistration.register_from_file).\n",
    "\n",
    "Additional Reference Codes for registering UDFs using Snowflake snowpark API - [here](https://docs.snowflake.com/developer-guide/snowpark/reference/python/latest/api/snowflake.snowpark.udf.UDFRegistration)\n",
    "\n"
   ]
  },
  {
   "cell_type": "code",
   "execution_count": 3,
   "metadata": {},
   "outputs": [
    {
     "name": "stdout",
     "output_type": "stream",
     "text": [
      "----------------- Credit Consumption UDF Example using @udf() Decorator -----------------\n",
      "------------------------------------------------------\n",
      "|\"\"\"UDEMY\"\".\"\"PUBLIC\"\".SNOWPARK_TEMP_FUNCTION_0P...  |\n",
      "------------------------------------------------------\n",
      "|48.3                                                |\n",
      "|92.4                                                |\n",
      "|1108.8                                              |\n",
      "------------------------------------------------------\n",
      "\n",
      "----------------- Credit To Dollar UDF Example using session.udf.register_from_file() method -----------------\n",
      "------------------------\n",
      "|\"C_TO_D(\"\"CREDIT\"\")\"  |\n",
      "------------------------\n",
      "|48.3                  |\n",
      "|23.1                  |\n",
      "|138.6                 |\n",
      "------------------------\n",
      "\n"
     ]
    }
   ],
   "source": [
    "from snowflake.snowpark.functions import udf\n",
    "from snowflake.snowpark.types import StructField, StructType, StringType, IntegerType, FloatType\n",
    "from assets.src_udfs import credit_to_dollar\n",
    "\n",
    "schema = StructType([StructField('warehouse',StringType()),StructField('credit',IntegerType())])\n",
    "dataset = [['XS',23],['L',66],['M',11]]\n",
    "df = session.createDataFrame(dataset,schema= schema)\n",
    "\n",
    "\n",
    "\n",
    "print('----------------- Credit Consumption UDF Example using @udf() Decorator -----------------')\n",
    "# @udf decorator allows you to create temporary UDFs which you can use within the session\n",
    "\n",
    "@udf(imports=[('assets/src_udfs.py','assets.src_udfs')])\n",
    "def wh_credit_calculator(wh_size:str, credit:int)->float:\n",
    "    \n",
    "    if wh_size == 'XS':\n",
    "        return credit_to_dollar(credit)*1\n",
    "    elif  wh_size == 'S':\n",
    "        return credit_to_dollar(credit)*2\n",
    "    elif  wh_size == 'M':\n",
    "        return credit_to_dollar(credit)*4\n",
    "    elif  wh_size == 'L':\n",
    "        return credit_to_dollar(credit)*8\n",
    "    elif  wh_size == 'XL':\n",
    "        return credit_to_dollar(credit)*16\n",
    "    elif  wh_size == 'XXL':\n",
    "        return credit_to_dollar(credit)*32\n",
    "    else:\n",
    "        return credit_to_dollar(credit)\n",
    "\n",
    "df.select(wh_credit_calculator('WAREHOUSE','CREDIT')).show()\n",
    "\n",
    "\n",
    "print('----------------- Credit To Dollar UDF Example using session.udf.register_from_file() method -----------------')\n",
    "# Registering UDF using Session.udf.register_from_file() method. It allows you to register a python function from an external file or from a stage file\n",
    "\n",
    "\n",
    "c_to_d = session.udf.register_from_file(file_path = 'assets/src_udfs.py',\n",
    "                                        func_name ='credit_to_dollar',\n",
    "                                        replace=True,\n",
    "                                        name = 'c_to_d',\n",
    "                                        return_type = FloatType(),\n",
    "                                        input_types = [IntegerType()],\n",
    "                                        is_permanent = True,\n",
    "                                        stage_location='@TEST_STAGE',\n",
    "                            )\n",
    "\n",
    "df.select(c_to_d(df.credit)).show()"
   ]
  }
 ],
 "metadata": {
  "kernelspec": {
   "display_name": "py38_env",
   "language": "python",
   "name": "python3"
  },
  "language_info": {
   "codemirror_mode": {
    "name": "ipython",
    "version": 3
   },
   "file_extension": ".py",
   "mimetype": "text/x-python",
   "name": "python",
   "nbconvert_exporter": "python",
   "pygments_lexer": "ipython3",
   "version": "3.8.17"
  },
  "orig_nbformat": 4
 },
 "nbformat": 4,
 "nbformat_minor": 2
}
