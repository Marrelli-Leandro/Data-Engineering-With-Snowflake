{
 "cells": [
  {
   "cell_type": "markdown",
   "metadata": {},
   "source": [
    "<div style=\"text-align: center; line-height: 0; padding-top: 9px;\">\n",
    "  <img src=\"https://drive.google.com/uc?export=view&id=1LqkEgbpZj8A99Y9T59eBp9fEIZbpg6P2\" alt=\"Snowflake Snowpark Classroom\" style=\"width: 800px\">\n",
    "</div>"
   ]
  },
  {
   "cell_type": "markdown",
   "metadata": {},
   "source": [
    "# Classroom 1.1 - Understanding Snowpark Session\n",
    "\n",
    "In this notebook, you will learn to understand how to establish connectivity with snowflake using Snowpark for Python on Jupyter Notebook with VSCode\n",
    "\n",
    "## Learning Objectives\n",
    "\n",
    "By the end of this classroom, you should be able to:\n",
    "- Get understanding on Snowpark Session Method\n",
    "- Establishing the Connectivity with Snowflake using Snowpark Session Builder\n",
    "- Setting up the session level configuration for your snowpark coding journey "
   ]
  },
  {
   "cell_type": "code",
   "execution_count": null,
   "metadata": {},
   "outputs": [],
   "source": [
    "# Getting Started With Snowpark\n",
    "from snowflake.snowpark.session import Session"
   ]
  },
  {
   "cell_type": "markdown",
   "metadata": {},
   "source": [
    "## Section 1 - Snowpark Session Builder\n",
    "\n",
    "\n",
    "Snowpark Library uses Python Connector to connect to Snowflake. This is done through the snowpark session object.\n",
    "\n",
    "To establish the snowflake connection, you require a Session Object. You must provide connection parameters to connect with a Snowflake database.\n",
    "\n",
    "Builder attribute of session object allows to set configurations and connectivity with snowflake\n",
    "\n",
    "Important thing to note here is that session object is not a thread-safe object"
   ]
  },
  {
   "cell_type": "code",
   "execution_count": null,
   "metadata": {},
   "outputs": [],
   "source": [
    "from assets.config import session_config\n",
    "\n",
    "session_config_local = {\n",
    "    \"account\": \"XXXXXXXXX.ap-southeast-1\",\n",
    "    \"user\": \"XXXXXXXXX\",\n",
    "    \"role\": \"XXXXXXXXX\",\n",
    "    \"warehouse\": \"XXXXXXXXX\",\n",
    "    \"database\": \"XXXXXXXXX\",\n",
    "    \"schema\": \"XXXXXXXXX\",\n",
    "    \"password\": \"XXXXXXXXX\",\n",
    "}\n",
    "\n",
    "session = Session.builder.configs(session_config).create()"
   ]
  },
  {
   "cell_type": "markdown",
   "metadata": {},
   "source": [
    "## Section 2 - Adding Libaries to Snowpark Session\n",
    "\n",
    "You can import libraries using the Session.add_import()\n",
    "\n",
    "The local file can be a compressed file (e.g., zip), a Python file (.py), a directory, or any other file resource."
   ]
  },
  {
   "cell_type": "code",
   "execution_count": null,
   "metadata": {},
   "outputs": [],
   "source": [
    "from assets.misc import sum_val\n",
    "session.add_import('assets/misc.py','misc')"
   ]
  },
  {
   "cell_type": "markdown",
   "metadata": {},
   "source": [
    "## Section 3.1 - Adding Packages to Snowpark Session\n",
    "\n",
    "We can include third party packages as dependencies of a user defined function using Session.add_packages()\n",
    "\n",
    "We can use this method to add packages for UDFs as installing packages using conda.\n"
   ]
  },
  {
   "cell_type": "code",
   "execution_count": null,
   "metadata": {},
   "outputs": [],
   "source": [
    "import numpy as np\n",
    "from snowflake.snowpark.functions import udf\n",
    "\n",
    "session.add_packages(np)\n",
    "\n",
    "@udf\n",
    "def get_numpy_data() -> list:\n",
    "    return [np.__name__]\n",
    "\n",
    "session.sql(f\"select {get_numpy_data.name}()\").to_df('col').show()\n"
   ]
  },
  {
   "cell_type": "markdown",
   "metadata": {},
   "source": [
    "## Section 3.2 - Adding Packages to Snowpark Session via requirements file\n",
    "\n",
    "With the help of Session.add_requirements(), we can add all packages that contains a list of packages as dependencies of a user-defined function (UDF)"
   ]
  },
  {
   "cell_type": "code",
   "execution_count": null,
   "metadata": {},
   "outputs": [],
   "source": [
    "# Lets try how we can import the list of packages from a requirements list\n",
    "session.add_requirements(file_path='assets/requirements.txt')"
   ]
  },
  {
   "cell_type": "markdown",
   "metadata": {},
   "source": [
    "## Section 4 - Getting Session Details using Snowpark Session methods\n",
    "\n",
    "Snowflake Snowpark API provides methods to extract the current active session context details. This includes:\n",
    "\n",
    "| Snowpark Method | Description |\n",
    "|--|--|\n",
    "| Session.get_current_account() | Returns the name of the current account for the Python connector session attached to this session |\n",
    "| Session.get_current_database() | Returns the name of the current database for the Python connector session attached to this session |\n",
    "| Session.get_current_role() | Returns the name of the primary role in use for the current session |\n",
    "| Session.get_current_schema() | Returns the name of the current schema for the Python connector session attached to this session |\n",
    "| Session.get_current_warehouse() | Returns the name of the warehouse in use for the current session |\n",
    "| Session.get_fully_qualified_current_schema() | Returns the fully qualified name of the current schema for the session |\n",
    "| Session.get_imports() | Returns a list of imports added for user defined functions (UDFs). This list includes any Python or zip files that were added automatically by the library |\n",
    "| Session.get_packages() | Returns a dict of packages added for user-defined functions (UDFs). The key of this dict is the package name and the value of this dict is the corresponding requirement specifier |\n",
    "| Session.get_session_stage() | Returns the name of the temporary stage created by the Snowpark library for uploading and storing temporary artifacts for this session. |\n",
    "\n"
   ]
  },
  {
   "cell_type": "code",
   "execution_count": null,
   "metadata": {},
   "outputs": [],
   "source": [
    "print(\"Account Name                     :\"+ session.get_current_account())\n",
    "print(\"Database Name                    :\"+ session.get_current_database())\n",
    "print(\"Role Name                        :\"+ session.get_current_role())\n",
    "print(\"Schema Name                      :\"+ session.get_current_schema())\n",
    "print(\"Warehouse Name                   :\"+ session.get_current_warehouse())\n",
    "print(\"Fully Qualified Schema Name      :\"+ session.get_fully_qualified_current_schema())\n",
    "print(\"Imports Name                     :\"+ str(session.get_imports()))\n",
    "print(\"Packages Name                    :\"+ str(session.get_packages()))\n",
    "print(\"Stage Name                       :\"+ session.get_session_stage())"
   ]
  },
  {
   "cell_type": "markdown",
   "metadata": {},
   "source": [
    "## Section 5 - Setting Up Snowflake Session Context using Snowpark API\n",
    "\n",
    "Snowflake Snowpark API provides methods to specifies the session context.\n",
    "\n",
    "|Snowpark Method| Description |\n",
    "|--|--|\n",
    "|Session.use_database()|Specifies the active/current database for the session|\n",
    "|Session.use_role()|Specifies the active/current primary role for the session|\n",
    "|Session.use_schema()|Specifies the active/current schema for the session|\n",
    "|Session.use_secondary_roles()|Specifies the active/current secondary roles for the session. The currently-active secondary roles set the context that determines whether the current user has the necessary privileges to perform SQL actions|\n",
    "|Session.use_warehouse()|Specifies the active/current warehouse for the session|\n"
   ]
  },
  {
   "cell_type": "code",
   "execution_count": null,
   "metadata": {},
   "outputs": [],
   "source": [
    "session.use_database('SNOWFLAKE')\n",
    "session.use_role('sysadmin')\n",
    "session.use_schema('information_schema')\n",
    "session.use_secondary_roles('all')\n",
    "session.use_warehouse('compute_wh')\n",
    "\n",
    "\n",
    "print(\"Database Name                    :\"+ session.get_current_database())\n",
    "print(\"Role Name                        :\"+ session.get_current_role())\n",
    "print(\"Schema Name                      :\"+ session.get_current_schema())\n",
    "print(\"Warehouse Name                   :\"+ session.get_current_warehouse())"
   ]
  },
  {
   "cell_type": "markdown",
   "metadata": {},
   "source": [
    "## Section 6 - Cleaning Up Session's Context and Configurations\n",
    "\n",
    "While you have Session methods to add imports or third party packages, Snowflake Snowpark API also provides the methods to remove or clear the packages or imports. Also You can terminate the entire session using Session.close()\n",
    "\n",
    "|Snowpark Method | Description | \n",
    "|--|--|\n",
    "|Session.remove_import()|Removes a file in stage or local file from the imports of a user-defined function|\n",
    "|Session.remove_package()|Removes a third-party package from the dependency list of a user-defined function|\n",
    "|Session.clear()|Removes a file in stage or local file from the imports of a user-defined function|\n",
    "|Session.clear_imports()|Clears all files in a stage or local files from the imports of a user-defined function|\n",
    "|Session.clear_packages()|Clears all files in a stage or local files from the packages of a user-defined function|\n",
    "|Session.close()|Terminate the snowflake Session|"
   ]
  },
  {
   "cell_type": "code",
   "execution_count": 18,
   "metadata": {},
   "outputs": [
    {
     "name": "stderr",
     "output_type": "stream",
     "text": [
      "The version of package openai in the local environment is 0.27.2, which does not fit the criteria for the requirement openai. Your UDF might not work when the package version is different between the server and your local environment\n"
     ]
    },
    {
     "name": "stdout",
     "output_type": "stream",
     "text": [
      "-----------------------------\n",
      "['c:\\\\Users\\\\divya\\\\Downloads\\\\Data Engineering With Snowflake\\\\01 - Snowpark API Commands\\\\assets\\\\config.py', 'c:\\\\Users\\\\divya\\\\Downloads\\\\Data Engineering With Snowflake\\\\01 - Snowpark API Commands\\\\assets\\\\misc.py']\n",
      "{'pandas': 'pandas', 'openai': 'openai'}\n",
      "-----------------------------\n",
      " Removing the openai from packages and config from imports\n",
      "\n",
      "['c:\\\\Users\\\\divya\\\\Downloads\\\\Data Engineering With Snowflake\\\\01 - Snowpark API Commands\\\\assets\\\\misc.py']\n",
      "{'pandas': 'pandas'}\n",
      "-----------------------------\n",
      " Clearing all packages and imports from the session\n",
      "\n",
      "[]\n",
      "{}\n",
      "-----------------------------\n",
      " terminating the snowflake session\n",
      "\n",
      "Session has been terminated now\n"
     ]
    }
   ],
   "source": [
    "session.add_import('assets/config.py','config')\n",
    "session.add_import('assets/misc.py','misc')\n",
    "session.add_requirements('assets/requirements.txt')\n",
    "\n",
    "\n",
    "print('-----------------------------')\n",
    "print(session.get_imports())\n",
    "print(session.get_packages())\n",
    "\n",
    "print('-----------------------------\\n Removing the openai from packages and config from imports\\n')\n",
    "session.remove_import('assets/config.py')\n",
    "session.remove_package('openai')\n",
    "print(session.get_imports())\n",
    "print(session.get_packages())\n",
    "\n",
    "print('-----------------------------\\n Clearing all packages and imports from the session\\n')\n",
    "session.clear_imports()\n",
    "session.clear_packages()\n",
    "print(session.get_imports())\n",
    "print(session.get_packages())\n",
    "\n",
    "print('-----------------------------\\n terminating the snowflake session\\n')\n",
    "session.close()\n",
    "print('Session has been terminated now')\n"
   ]
  }
 ],
 "metadata": {
  "kernelspec": {
   "display_name": "py38_env",
   "language": "python",
   "name": "python3"
  },
  "language_info": {
   "codemirror_mode": {
    "name": "ipython",
    "version": 3
   },
   "file_extension": ".py",
   "mimetype": "text/x-python",
   "name": "python",
   "nbconvert_exporter": "python",
   "pygments_lexer": "ipython3",
   "version": "3.8.17"
  },
  "orig_nbformat": 4
 },
 "nbformat": 4,
 "nbformat_minor": 2
}
