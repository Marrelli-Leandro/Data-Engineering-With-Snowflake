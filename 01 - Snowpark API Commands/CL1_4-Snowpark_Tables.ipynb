{
 "cells": [
  {
   "cell_type": "markdown",
   "metadata": {},
   "source": [
    "<div style=\"text-align: center; line-height: 0; padding-top: 9px;\">\n",
    "  <img src=\"https://drive.google.com/uc?export=view&id=1LqkEgbpZj8A99Y9T59eBp9fEIZbpg6P2\" alt=\"Snowflake Snowpark Classroom\" style=\"width: 800px\">\n",
    "</div>"
   ]
  },
  {
   "cell_type": "markdown",
   "metadata": {},
   "source": [
    "# Classroom 1.4 - Table Operations Using Snowflake Snowpark Python API \n",
    "\n",
    "In this notebook, you will learn how to perform table operations using Snowflake Snowpark API for Python\n",
    "\n",
    "## Learning Objectives\n",
    "\n",
    "By the end of this classroom, you should be able to:\n",
    "- Perform Delete, Merge, Update Operations on a table"
   ]
  },
  {
   "cell_type": "code",
   "execution_count": 2,
   "metadata": {},
   "outputs": [],
   "source": [
    "from assets.config import connection_builder\n",
    "session = connection_builder()"
   ]
  },
  {
   "cell_type": "markdown",
   "metadata": {},
   "source": [
    "## Section 1 - Understanding Snowpark Session Table Object and it's different methods\n",
    "\n",
    "snowflake.snowpark.Table represents a lazily-evaluated Table.\n",
    "\n",
    "You can create a Table object by calling [Session.table()](https://docs.snowflake.com/en/developer-guide/snowpark/reference/python/latest/api/snowflake.snowpark.Table) with the name of the table in Snowflake.\n",
    "\n",
    "\n",
    "Methods of Snowpark Table Object:\n",
    "\n",
    "| Method | Description |\n",
    "|--|--|\n",
    "| delete() | Deletes rows in a Table and returns a DeleteResult, representing the number of rows deleted. |\n",
    "| drop_table() | Drops the table from the Snowflake database. |\n",
    "| merge() | Merges this Table with DataFrame source on the specified join expression and a list of matched or not-matched clauses, and returns a MergeResult, representing the number of rows inserted, updated and deleted by this merge action. |\n",
    "| update() | Updates rows in the Table with specified assignments and returns a UpdateResult, representing the number of rows modified and the number of multi-joined rows modified.| \n"
   ]
  },
  {
   "cell_type": "code",
   "execution_count": 3,
   "metadata": {},
   "outputs": [
    {
     "name": "stdout",
     "output_type": "stream",
     "text": [
      "----------------- Original Data -----------------\n",
      "-----------------------------------------\n",
      "|\"USERNAME\"  |\"AGE\"  |\"EMAIL_ID\"        |\n",
      "-----------------------------------------\n",
      "|divyansh    |24     |divyansh@abc.com  |\n",
      "|raghav      |29     |raghav@abc.in     |\n",
      "|Aman        |34     |aman@xyz.ca       |\n",
      "|Leo         |22     |leo@abc.com       |\n",
      "-----------------------------------------\n",
      "\n",
      "----------------- Delete Operation with no condition -----------------\n",
      "-----------------------------------\n",
      "|\"USERNAME\"  |\"AGE\"  |\"EMAIL_ID\"  |\n",
      "-----------------------------------\n",
      "|            |       |            |\n",
      "-----------------------------------\n",
      "\n",
      "----------------- Delete Operation with predicate condition -----------------\n",
      "--------------------------------------\n",
      "|\"USERNAME\"  |\"AGE\"  |\"EMAIL_ID\"     |\n",
      "--------------------------------------\n",
      "|raghav      |29     |raghav@abc.in  |\n",
      "|Aman        |34     |aman@xyz.ca    |\n",
      "|Leo         |22     |leo@abc.com    |\n",
      "--------------------------------------\n",
      "\n",
      "----------------- Delete Operation with dataset -----------------\n",
      "-----------------------------------------\n",
      "|\"USERNAME\"  |\"AGE\"  |\"EMAIL_ID\"        |\n",
      "-----------------------------------------\n",
      "|divyansh    |24     |divyansh@abc.com  |\n",
      "|Aman        |34     |aman@xyz.ca       |\n",
      "-----------------------------------------\n",
      "\n"
     ]
    }
   ],
   "source": [
    "# Performing delete() operations on the temporary table\n",
    "\n",
    "from snowflake.snowpark.types import StructField, StructType, IntegerType, StringType\n",
    "\n",
    "df_schema = StructType([StructField('username',StringType()),StructField('age',IntegerType()),StructField('email_id',StringType()) ])\n",
    "df_dataset = [['divyansh',24,'divyansh@abc.com'],['raghav',29,'raghav@abc.in'],['Aman',34,'aman@xyz.ca'],['Leo',22,'leo@abc.com']]\n",
    "df = session.createDataFrame(df_dataset,df_schema)\n",
    "\n",
    "src_schema = StructType([StructField('age',IntegerType())])\n",
    "src_dataset = [[35],[22],[29],[23]]\n",
    "src_df = session.create_dataframe(src_dataset,src_schema) \n",
    "\n",
    "\n",
    "\n",
    "print('----------------- Original Data -----------------')\n",
    "df.write.save_as_table('test_table',mode='overwrite',table_type='temporary')\n",
    "session.table('test_table').show()\n",
    "\n",
    "print('----------------- Delete Operation with no condition -----------------')\n",
    "table_0 = session.table('test_table').delete()\n",
    "session.table('test_table').show()\n",
    "\n",
    "print('----------------- Delete Operation with predicate condition -----------------')\n",
    "df.write.save_as_table('test_table',mode='overwrite',table_type='temporary')\n",
    "table_1 = session.table('test_table')\n",
    "table_1.delete(table_1[\"age\"]==24)\n",
    "session.table('test_table').show()\n",
    "\n",
    "\n",
    "print('----------------- Delete Operation with dataset -----------------')\n",
    "df.write.save_as_table('test_table',mode='overwrite',table_type='temporary')\n",
    "table_2 = session.table('test_table')\n",
    "table_2.delete(table_2[\"age\"]==src_df.age,src_df)\n",
    "session.table('test_table').show()"
   ]
  },
  {
   "cell_type": "code",
   "execution_count": 4,
   "metadata": {},
   "outputs": [],
   "source": [
    "# Understanding Various Drop Methods on the table object.\n",
    "\n",
    "df_schema = StructType([StructField('username',StringType()),StructField('age',IntegerType()),StructField('email_id',StringType()) ])\n",
    "df_dataset = [['divyansh',24,'divyansh@abc.com'],['raghav',29,'raghav@abc.in'],['Aman',34,'aman@xyz.ca'],['Leo',22,'leo@abc.com'],['raghav',29,'raghav@abc.in'],['raghav',29,'raghav@abc.in'],['Aman',34,None],[None,None,None]]\n",
    "df = session.createDataFrame(df_dataset,df_schema)\n",
    "df.write.save_as_table('test_table',mode='overwrite',table_type='temporary')\n",
    "\n",
    "session.table('test_table').drop_table()"
   ]
  },
  {
   "cell_type": "code",
   "execution_count": 5,
   "metadata": {},
   "outputs": [
    {
     "name": "stdout",
     "output_type": "stream",
     "text": [
      "----------------- Source Table Data -----------------\n",
      "-----------------------------------------\n",
      "|\"USERNAME\"  |\"AGE\"  |\"EMAIL_ID\"        |\n",
      "-----------------------------------------\n",
      "|divyansh    |24     |divyansh@abc.com  |\n",
      "|raghav      |22     |raghav@def.ca     |\n",
      "|Aman        |36     |aman@google.ca    |\n",
      "|Paul        |22     |Paul@abc.com      |\n",
      "-----------------------------------------\n",
      "\n",
      "----------------- Target Table Data -----------------\n",
      "-----------------------------------------\n",
      "|\"USERNAME\"  |\"AGE\"  |\"EMAIL_ID\"        |\n",
      "-----------------------------------------\n",
      "|divyansh    |24     |divyansh@abc.com  |\n",
      "|raghav      |29     |raghav@abc.in     |\n",
      "|Aman        |34     |aman@xyz.ca       |\n",
      "|Leo         |22     |leo@abc.com       |\n",
      "-----------------------------------------\n",
      "\n",
      "----------------- Target Table Data After Merge Statement -----------------\n",
      "-----------------------------------------\n",
      "|\"USERNAME\"  |\"AGE\"  |\"EMAIL_ID\"        |\n",
      "-----------------------------------------\n",
      "|Paul        |22     |Paul@abc.com      |\n",
      "|divyansh    |24     |divyansh@abc.com  |\n",
      "|raghav      |22     |raghav@def.ca     |\n",
      "|Aman        |36     |aman@google.ca    |\n",
      "|Leo         |22     |leo@abc.com       |\n",
      "-----------------------------------------\n",
      "\n"
     ]
    }
   ],
   "source": [
    "# Understanding Merge Operations on the Table Object\n",
    "from snowflake.snowpark.functions import when_matched, when_not_matched\n",
    "from snowflake.snowpark.types import StructField, StructType, IntegerType, StringType\n",
    "\n",
    "tgt_schema = StructType([StructField('username',StringType()),StructField('age',IntegerType()),StructField('email_id',StringType()) ])\n",
    "tgt_dataset = [['divyansh',24,'divyansh@abc.com'],['raghav',29,'raghav@abc.in'],['Aman',34,'aman@xyz.ca'],['Leo',22,'leo@abc.com']]\n",
    "tgt_df = session.createDataFrame(tgt_dataset,tgt_schema)\n",
    "tgt_df.write.save_as_table('target_table',mode='overwrite',table_type='temporary')\n",
    "\n",
    "src_schema = StructType([StructField('username',StringType()),StructField('age',IntegerType()),StructField('email_id',StringType()) ])\n",
    "src_dataset = [['divyansh',24,'divyansh@abc.com'],['raghav',22,'raghav@def.ca'],['Aman',36,'aman@google.ca'],['Paul',22,'Paul@abc.com']]\n",
    "src_df = session.createDataFrame(src_dataset,src_schema)\n",
    "src_df.write.save_as_table('source_table',mode='overwrite',table_type='temporary')\n",
    "\n",
    "src_table = session.table('source_table')\n",
    "tgt_table = session.table('target_table')\n",
    "\n",
    "print('----------------- Source Table Data -----------------')\n",
    "src_table.show()\n",
    "print('----------------- Target Table Data -----------------')\n",
    "tgt_table.show()\n",
    "\n",
    "tgt_table.merge(src_table,\n",
    "                (tgt_table['username']==src_table['username']),\n",
    "                [when_matched().update({'age':src_table['age'], 'email_id':src_table['email_id']}),\n",
    "                 when_not_matched().insert({'username':src_table['username'],'age':src_table['age'],'email_id':src_table['email_id']})])\n",
    "\n",
    "print('----------------- Target Table Data After Merge Statement -----------------')\n",
    "tgt_table.show()\n",
    "\n"
   ]
  },
  {
   "cell_type": "code",
   "execution_count": 6,
   "metadata": {},
   "outputs": [
    {
     "name": "stdout",
     "output_type": "stream",
     "text": [
      "----------------- Target Table Data -----------------\n",
      "-----------------------------------------\n",
      "|\"USERNAME\"  |\"AGE\"  |\"EMAIL_ID\"        |\n",
      "-----------------------------------------\n",
      "|divyansh    |24     |divyansh@abc.com  |\n",
      "|raghav      |29     |raghav@abc.in     |\n",
      "|Aman        |34     |aman@xyz.ca       |\n",
      "|Leo         |22     |leo@abc.com       |\n",
      "|divyansh    |18     |divyansh@xyz.com  |\n",
      "-----------------------------------------\n",
      "\n",
      "----------------- Target Table Data After Update -----------------\n",
      "-----------------------------------------\n",
      "|\"USERNAME\"  |\"AGE\"  |\"EMAIL_ID\"        |\n",
      "-----------------------------------------\n",
      "|Aman        |34     |aman@xyz.ca       |\n",
      "|Leo         |22     |leo@abc.com       |\n",
      "|divyansh    |0      |divyansh@abc.com  |\n",
      "|raghav      |0      |raghav@abc.in     |\n",
      "|divyansh    |0      |divyansh@xyz.com  |\n",
      "-----------------------------------------\n",
      "\n"
     ]
    },
    {
     "ename": "",
     "evalue": "",
     "output_type": "error",
     "traceback": [
      "\u001b[1;31mThe Kernel crashed while executing code in the the current cell or a previous cell. Please review the code in the cell(s) to identify a possible cause of the failure. Click <a href='https://aka.ms/vscodeJupyterKernelCrash'>here</a> for more info. View Jupyter <a href='command:jupyter.viewOutput'>log</a> for further details."
     ]
    }
   ],
   "source": [
    "# Understanding Update Operations on the Table Object\n",
    "\n",
    "tgt_schema = StructType([StructField('username',StringType()),StructField('age',IntegerType()),StructField('email_id',StringType()) ])\n",
    "tgt_dataset = [['divyansh',24,'divyansh@abc.com'],['raghav',29,'raghav@abc.in'],['Aman',34,'aman@xyz.ca'],['Leo',22,'leo@abc.com'],['divyansh',18,'divyansh@xyz.com']]\n",
    "tgt_df = session.createDataFrame(tgt_dataset,tgt_schema)\n",
    "tgt_df.write.save_as_table('target_table',mode='overwrite',table_type='temporary')\n",
    "tgt_table = session.table('target_table')\n",
    "\n",
    "print('----------------- Target Table Data -----------------')\n",
    "tgt_table.show()\n",
    "\n",
    "tgt_table.update({'age' : 0},(tgt_table['username']=='divyansh') | ((tgt_table['age']>25) & (tgt_table['age']<30)))\n",
    "\n",
    "print('----------------- Target Table Data After Update -----------------')\n",
    "tgt_table.show()"
   ]
  }
 ],
 "metadata": {
  "kernelspec": {
   "display_name": "py38_env",
   "language": "python",
   "name": "python3"
  },
  "language_info": {
   "codemirror_mode": {
    "name": "ipython",
    "version": 3
   },
   "file_extension": ".py",
   "mimetype": "text/x-python",
   "name": "python",
   "nbconvert_exporter": "python",
   "pygments_lexer": "ipython3",
   "version": "3.8.17"
  },
  "orig_nbformat": 4
 },
 "nbformat": 4,
 "nbformat_minor": 2
}
