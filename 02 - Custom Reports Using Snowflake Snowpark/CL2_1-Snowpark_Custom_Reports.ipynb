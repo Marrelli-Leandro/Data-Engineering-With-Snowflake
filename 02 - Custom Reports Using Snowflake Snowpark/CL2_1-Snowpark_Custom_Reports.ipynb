{
 "cells": [
  {
   "cell_type": "markdown",
   "metadata": {},
   "source": [
    "<div style=\"text-align: center; line-height: 0; padding-top: 9px;\">\n",
    "  <img src=\"https://drive.google.com/uc?export=view&id=1LqkEgbpZj8A99Y9T59eBp9fEIZbpg6P2\" alt=\"Snowflake Snowpark Classroom\" style=\"width: 800px\">\n",
    "</div>"
   ]
  },
  {
   "cell_type": "markdown",
   "metadata": {},
   "source": [
    "# Classroom 2.1 - [PROJECT] - Customized Notification Reports Using Snowflake Snowpark for Python\n",
    "\n",
    "In this notebook, you will learn how to create custom reports using Snowpark API and Snowflake Notifications\n",
    "\n",
    "## Learning Objectives\n",
    "\n",
    "By the end of this classroom, you should be able to:\n",
    "- Creating Snowflake Snowpark code to generate custom Reports\n",
    "- Understanding Snowflake Notifications and Generating Mail Notification\n",
    "- Creating Snowflake Snowpark Stored Procedure to Create a Sproc"
   ]
  },
  {
   "cell_type": "code",
   "execution_count": null,
   "metadata": {},
   "outputs": [],
   "source": [
    "# Lets Get Started with Snowpark For Python\n",
    "from assets.config import connection_builder\n",
    "session = connection_builder()"
   ]
  },
  {
   "cell_type": "markdown",
   "metadata": {},
   "source": [
    "## Section 1 - Creating Snowpark Code to Generate Customized Report\n",
    "\n",
    "In this module, we will learn how we can generate custom query reports and send them as mail alerts using Snowflake Snowpark For Python.\n",
    "\n",
    "- We will first create a sample code to generate the dataset we want as a mail report.\n",
    "- Once its generated we will use Email Notification to trigger the report. \n",
    "- Lastly we will encapsulate the code to register as stored procedure on snowflake\n",
    "\n",
    "---\n",
    "\n",
    "### [Sending Email Notifications](https://docs.snowflake.com/en/user-guide/email-stored-procedures)\n",
    "\n",
    "This feature uses the notification integration object, which is a Snowflake object that provides an interface between Snowflake and third-party services (e.g. cloud message queues, email, etc.). A single account can define a maximum of ten email integrations and enable one or more simultaneously.\n"
   ]
  },
  {
   "cell_type": "code",
   "execution_count": null,
   "metadata": {},
   "outputs": [],
   "source": [
    "from snowflake.snowpark.functions import lit, concat_ws\n",
    "# Generating Sample Data Using SNOWFLAKE_SAMPLE_DATA.TPCDS_SF10TCL.CUSTOMER \n",
    "src_data = session.table('SNOWFLAKE_SAMPLE_DATA.TPCDS_SF10TCL.CUSTOMER').limit(1000)\n",
    "src_data.write.save_as_table(table_name='CUSTOMERS',mode='overwrite',table_type='transient')\n",
    "\n",
    "# Transforming the sample data for sending Notification\n",
    "main_data = session.read.table('CUSTOMERS')\n",
    "main_data.update({'C_EMAIL_ADDRESS': None,'C_PREFERRED_CUST_FLAG':'N'}, (main_data.c_birth_country == 'NEPAL'))\n",
    "\n",
    "notification_dataset = main_data.filter(  (main_data.c_email_address.isNull())\n",
    "                                        & (main_data.c_birth_country.isin('NEPAL','INDIA','ALGERIA'))\n",
    "                                        ).select(main_data.C_CUSTOMER_ID,\n",
    "                                                 main_data.C_FIRST_NAME,\n",
    "                                                 main_data.C_LAST_NAME,\n",
    "                                                 main_data.C_EMAIL_ADDRESS,\n",
    "                                                 main_data.C_PREFERRED_CUST_FLAG,\n",
    "                                                 concat_ws(lit('-'),main_data.C_BIRTH_YEAR,main_data.C_BIRTH_MONTH,main_data.C_BIRTH_DAY).alias('DOB')\n",
    "                                                 ).with_column('STATUS',lit('FLAGED'))\n",
    "html_text = notification_dataset.to_pandas().to_html()\n",
    "\n",
    "# *********** *********** *********** *********** *********** *********** *********** ***********  \n",
    "# ***********    User need to provide the Mail Integration which they want to use     *********** \n",
    "# *********** *********** *********** *********** *********** *********** *********** ***********  \n",
    "integration = 'MAIL_NOTIFICATION'\n",
    "mail_subject = 'Snowflake Report For Flagged Dataset'\n",
    "mails = session.sql('desc integration '+integration)\n",
    "for emails in mails.toLocalIterator():\n",
    "    if emails[0]=='ALLOWED_RECIPIENTS':\n",
    "        to_list = emails[2]\n",
    "session.call('SYSTEM$SEND_EMAIL',\n",
    "             integration,\n",
    "             to_list,\n",
    "             mail_subject,\n",
    "             html_text,\n",
    "             'text/html')\n"
   ]
  },
  {
   "cell_type": "code",
   "execution_count": null,
   "metadata": {},
   "outputs": [],
   "source": [
    "# Creating a Stored Proc for the Above Report\n",
    "import snowflake.snowpark\n",
    "from snowflake.snowpark.types import StringType\n",
    "\n",
    "def flagged_dataset_report(session:snowflake.snowpark.Session, mail_integration:str)->str:\n",
    "    from snowflake.snowpark.functions import lit, concat_ws\n",
    "    # Generating Sample Data Using SNOWFLAKE_SAMPLE_DATA.TPCDS_SF10TCL.CUSTOMER \n",
    "    src_data = session.table('SNOWFLAKE_SAMPLE_DATA.TPCDS_SF10TCL.CUSTOMER').limit(1000)\n",
    "    src_data.write.save_as_table(table_name='CUSTOMERS',mode='overwrite',table_type='transient')\n",
    "\n",
    "    # Transforming the sample data for sending Notification\n",
    "    main_data = session.read.table('CUSTOMERS')\n",
    "    main_data.update({'C_EMAIL_ADDRESS': None,'C_PREFERRED_CUST_FLAG':'N'}, (main_data.c_birth_country == 'NEPAL'))\n",
    "\n",
    "    notification_dataset = main_data.filter(  (main_data.c_email_address.isNull())\n",
    "                                            & (main_data.c_birth_country.isin('NEPAL','INDIA','ALGERIA'))\n",
    "                                            ).select(main_data.C_CUSTOMER_ID,\n",
    "                                                    main_data.C_FIRST_NAME,\n",
    "                                                    main_data.C_LAST_NAME,\n",
    "                                                    main_data.C_EMAIL_ADDRESS,\n",
    "                                                    main_data.C_PREFERRED_CUST_FLAG,\n",
    "                                                    concat_ws(lit('-'),main_data.C_BIRTH_YEAR,main_data.C_BIRTH_MONTH,main_data.C_BIRTH_DAY).alias('DOB')\n",
    "                                                    ).with_column('STATUS',lit('FLAGED'))\n",
    "    html_text = notification_dataset.to_pandas().to_html()\n",
    "\n",
    "    mail_subject = 'Snowflake Report For Flagged Dataset'\n",
    "    mails = session.sql('desc integration '+mail_integration)\n",
    "    for emails in mails.toLocalIterator():\n",
    "        if emails[0]=='ALLOWED_RECIPIENTS':\n",
    "            to_list = emails[2]\n",
    "    session.call('SYSTEM$SEND_EMAIL',\n",
    "                mail_integration,\n",
    "                to_list,\n",
    "                mail_subject,\n",
    "                html_text,\n",
    "                'text/html')\n",
    "    return 'success'\n",
    "\n",
    "session.sproc.register(func=flagged_dataset_report,\n",
    "                       name='sp_email_report',\n",
    "                       return_type=StringType(),\n",
    "                       input_types=[StringType()],\n",
    "                       is_permanent=True,\n",
    "                       replace=True,\n",
    "                       stage_location='@TEST_STAGE',\n",
    "                       execute_as='CALLER',\n",
    "                       packages=['snowflake-snowpark-python'])\n",
    "\n",
    "# *********** *********** *********** *********** *********** *********** *********** ***********  \n",
    "# ***********    User need to provide the Mail Integration which they want to use     *********** \n",
    "# *********** *********** *********** *********** *********** *********** *********** ***********  \n",
    "session.call('sp_email_report','MAIL_NOTIFICATION')"
   ]
  }
 ],
 "metadata": {
  "kernelspec": {
   "display_name": "py38_env",
   "language": "python",
   "name": "python3"
  },
  "language_info": {
   "codemirror_mode": {
    "name": "ipython",
    "version": 3
   },
   "file_extension": ".py",
   "mimetype": "text/x-python",
   "name": "python",
   "nbconvert_exporter": "python",
   "pygments_lexer": "ipython3",
   "version": "3.10.13"
  },
  "orig_nbformat": 4
 },
 "nbformat": 4,
 "nbformat_minor": 2
}
