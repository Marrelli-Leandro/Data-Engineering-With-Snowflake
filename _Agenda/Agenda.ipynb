{
 "cells": [
  {
   "cell_type": "markdown",
   "metadata": {},
   "source": [
    "<div style=\"text-align: center; line-height: 0; padding-top: 9px;\">\n",
    "  <img src=\"https://drive.google.com/uc?export=view&id=1LqkEgbpZj8A99Y9T59eBp9fEIZbpg6P2\" alt=\"Snowflake Snowpark Classroom\" style=\"width: 800px\">\n",
    "</div>\n",
    "\n",
    "# Snowflake Snowpark Master Class 2023\n",
    "\n",
    "The Snowflake Snowpark Master Class module is designed to learn about snowflake's snowpark API capabilities with Python for data transformation, manipulation along with Building reports using Snowflake Snowpark for Python. The content for this course consists of the begineer-level modules for Data Engineering Learning Path.\n",
    "\n",
    "## Course Agenda\n",
    "\n",
    "The following modules are part of the Snowflake Snowpark Master Class Learning Path.\n",
    "\n",
    "| Folder | Module Name |\n",
    "| -- | -- |\n",
    "| 00 - Initial Setup | Setting Up Your Development Environment for Snowpark Python |\n",
    "| 01 - Snowpark API Commands | Transforming Data Using Snowpark for Python |\n",
    "| 02 - Building Custom Reports | Generating Custom Email Reports Using Snowflake Snowpark for Python |\n",
    "\n",
    "<br><br>\n",
    "\n",
    "---\n",
    "\n",
    "## About Author\n",
    "\n",
    "<div style=\"text-align: center; line-height: 0; padding-top: 9px;\">\n",
    "  <img src=\"https://drive.google.com/uc?export=view&id=15pfObrjkUsmusJWw0HqHlsXtigllZPp5\" alt=\"Divyansh Saxena\" style=\"width: 400px\">\n",
    "</div>\n",
    "\n",
    "Experienced Data Engineer with a proven track record of success in Snowflake Data Cloud technology. Highly skilled in designing, implementing, and maintaining data pipelines, ETL workflows, and data warehousing solutions. Possessing advanced knowledge of Snowflake's features and functionality, I am a Snowflake Data superhero & Snowflake Snowpro Core SME. With a major career in Snowflake Data Cloud, I have a deep understanding of cloud-native data architecture and can leverage it to deliver high-performing, scalable, and secure data solutions.\n",
    "\n",
    "[Linkedin](https://www.linkedin.com/in/divyanshsaxena/)\n",
    "\n",
    "[Medium](https://medium.com/@divyanshsaxenaofficial)\n",
    "\n",
    "[Udemy]()\n"
   ]
  }
 ],
 "metadata": {
  "kernelspec": {
   "display_name": "py38_env",
   "language": "python",
   "name": "python3"
  },
  "language_info": {
   "codemirror_mode": {
    "name": "ipython",
    "version": 3
   },
   "file_extension": ".py",
   "mimetype": "text/x-python",
   "name": "python",
   "nbconvert_exporter": "python",
   "pygments_lexer": "ipython3",
   "version": "3.8.16"
  },
  "orig_nbformat": 4
 },
 "nbformat": 4,
 "nbformat_minor": 2
}
