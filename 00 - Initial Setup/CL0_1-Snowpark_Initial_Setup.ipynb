{
 "cells": [
  {
   "cell_type": "markdown",
   "metadata": {},
   "source": [
    "<div style=\"text-align: center; line-height: 0; padding-top: 9px;\">\n",
    "  <img src=\"https://drive.google.com/uc?export=view&id=1LqkEgbpZj8A99Y9T59eBp9fEIZbpg6P2\" alt=\"Snowflake Snowpark Classroom\" style=\"width: 800px\">\n",
    "</div>"
   ]
  },
  {
   "cell_type": "markdown",
   "metadata": {},
   "source": [
    "# Classroom 0.1 - Snowflake Snowpark For Python Initial Setup\n",
    "\n",
    "In this notebook, you will complete the initial setup which is required to configure snowflake snowpark in your local environment\n",
    "\n",
    "## Learning Objectives\n",
    "\n",
    "By the end of this classroom, you should be able to:\n",
    "- Setting up Python Environment for Snowflake Snowpark for Python using Anaconda\n",
    "- Understanding the Snowflake Connection Config File for Establishing Connectivity\n"
   ]
  },
  {
   "cell_type": "markdown",
   "metadata": {},
   "source": [
    "## Section 1 - Setting Up Snowflake Snowpark Environment for Python 3.9\n",
    "\n",
    "Using below list of terminal commands, you can create a python environment using anaconda on Microsoft Visual Studio Code\n",
    "\n",
    "Execute them either on the terminal or on the jupyter notebook\n",
    "\n",
    "- ! conda create --name python_env_39 --override-channels -c https://repo.anaconda.com/pkgs/snowflake python=3.9 numpy pandas\n",
    "- ! conda activate python_env_39 \n",
    "- ! conda install snowflake-snowpark-python\n",
    "- ! pip install notebook\n"
   ]
  },
  {
   "cell_type": "code",
   "execution_count": null,
   "metadata": {},
   "outputs": [],
   "source": [
    "! conda create --name python_env_39 --override-channels -c https://repo.anaconda.com/pkgs/snowflake python=3.9 numpy pandas\n",
    "! conda activate python_env_39 \n",
    "! conda install snowflake-snowpark-python\n",
    "! pip install notebook"
   ]
  },
  {
   "cell_type": "markdown",
   "metadata": {},
   "source": [
    "## Section 2 - Setting Up Snowflake Connection Configuration for the Classroom Modules\n",
    "\n",
    "Throughout the classroom courses, you will be establishing the connectivity with your snowflake account for executing queries or generating results. In order to establish connectivity, you would require to update your account details and configurations under [assets->config.py](./assets/config.py) file"
   ]
  },
  {
   "cell_type": "code",
   "execution_count": 2,
   "metadata": {},
   "outputs": [
    {
     "data": {
      "text/plain": [
       "[Row(status='Stage area TEST_STAGE successfully created.')]"
      ]
     },
     "execution_count": 2,
     "metadata": {},
     "output_type": "execute_result"
    }
   ],
   "source": [
    "from assets.config import connection_builder\n",
    "session = connection_builder()\n",
    "session.sql('CREATE DATABASE IF NOT EXISTS UDEMY').collect()\n",
    "session.sql(\"\"\"\n",
    "CREATE NOTIFICATION INTEGRATION MAIL_NOTIFICATION\n",
    "TYPE = EMAIL\n",
    "ENABLED = TRUE\n",
    "ALLOWED_RECIPIENTS = ('<YOUR EMAIL ID>');\n",
    "\"\"\").collect()"
   ]
  }
 ],
 "metadata": {
  "kernelspec": {
   "display_name": "py38_env",
   "language": "python",
   "name": "python3"
  },
  "language_info": {
   "codemirror_mode": {
    "name": "ipython",
    "version": 3
   },
   "file_extension": ".py",
   "mimetype": "text/x-python",
   "name": "python",
   "nbconvert_exporter": "python",
   "pygments_lexer": "ipython3",
   "version": "3.8.17"
  },
  "orig_nbformat": 4
 },
 "nbformat": 4,
 "nbformat_minor": 2
}
